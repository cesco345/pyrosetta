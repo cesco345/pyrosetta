{
 "cells": [
  {
   "cell_type": "code",
   "execution_count": 3,
   "id": "a09ef550-e848-4ca9-bd87-3eded23d854f",
   "metadata": {},
   "outputs": [],
   "source": [
    "import os\n",
    "import subprocess\n",
    "import numpy as np\n",
    "from Bio import PDB\n",
    "from Bio.PDB.Superimposer import Superimposer\n"
   ]
  },
  {
   "cell_type": "code",
   "execution_count": 15,
   "id": "d9067d5b-7944-4457-ac09-9350af8dfe25",
   "metadata": {},
   "outputs": [],
   "source": [
    "# Cell 1: Import necessary libraries\n",
    "import os\n",
    "import subprocess\n",
    "import numpy as np\n",
    "from Bio import PDB\n",
    "from Bio.PDB.PDBList import PDBList\n",
    "from Bio.PDB.Superimposer import Superimposer\n",
    "import warnings\n",
    "from Bio.PDB.PDBExceptions import PDBConstructionWarning\n",
    "\n"
   ]
  },
  {
   "cell_type": "code",
   "execution_count": 18,
   "id": "bd8c81a3-72ac-49d4-8681-f2b0cb9b50ee",
   "metadata": {},
   "outputs": [],
   "source": [
    "# Cell 2: Custom warning handler\n",
    "def custom_warning_handler(message, category, filename, lineno, file=None, line=None):\n",
    "    print(f\"Warning: {message}\")\n",
    "\n",
    "warnings.showwarning = custom_warning_handler\n"
   ]
  },
  {
   "cell_type": "code",
   "execution_count": 19,
   "id": "c359dd24-f791-443e-8d13-6fdb2e14db18",
   "metadata": {},
   "outputs": [
    {
     "name": "stdout",
     "output_type": "stream",
     "text": [
      "Structure exists: './pdb1acb.ent' \n"
     ]
    }
   ],
   "source": [
    "# Cell 2: Process PDB files with mark_sur\n",
    "#def run_mark_sur(input_pdb, output_pdb):\n",
    "#    subprocess.run([mark_sur_path, input_pdb, output_pdb], check=True)\n",
    "\n",
    "# Cell 2: Download PDB files\n",
    "def download_pdb(pdb_id):\n",
    "    pdbl = PDBList()\n",
    "    filename = pdbl.retrieve_pdb_file(pdb_id, pdir='.', file_format='pdb')\n",
    "    return filename\n",
    "# Download the crystal structure\n",
    "crystal_file = download_pdb('1ACB')\n"
   ]
  },
  {
   "cell_type": "code",
   "execution_count": 20,
   "id": "6ed9c3b0-d363-4218-9aae-2bdb0bcc8a88",
   "metadata": {},
   "outputs": [
    {
     "name": "stdout",
     "output_type": "stream",
     "text": [
      "Warning: WARNING: Chain E is discontinuous at line 2734.\n",
      "Warning: WARNING: Chain I is discontinuous at line 2847.\n"
     ]
    }
   ],
   "source": [
    "# Cell 3: Run ZDOCK\n",
    "#def run_zdock(receptor, ligand, output):\n",
    "#    subprocess.run([zdock_path, \"-R\", receptor, \"-L\", ligand, \"-o\", output], check=True)\n",
    "# Cell 3: Load structures\n",
    "def load_structure(filename):\n",
    "    parser = PDB.PDBParser()\n",
    "    structure = parser.get_structure('structure', filename)\n",
    "    return structure\n",
    "\n",
    "crystal_structure = load_structure(crystal_file)\n"
   ]
  },
  {
   "cell_type": "code",
   "execution_count": 21,
   "id": "1f9672bb-4390-49a3-97d0-a86a53eeba17",
   "metadata": {},
   "outputs": [],
   "source": [
    "# Cell 4: Create complex structures\n",
    "#def create_complexes(zdock_out):\n",
    "#    subprocess.run([create_pl_path, zdock_out], check=True)\n",
    "# Cell 4: Load structures with additional information\n",
    "def load_structure(filename):\n",
    "    parser = PDB.PDBParser(QUIET=True)\n",
    "    structure = parser.get_structure('structure', filename)\n",
    "    \n",
    "    # Analyze chain continuity\n",
    "    for model in structure:\n",
    "        for chain in model:\n",
    "            residues = list(chain.get_residues())\n",
    "            for i in range(len(residues) - 1):\n",
    "                if residues[i].id[1] + 1 != residues[i+1].id[1]:\n",
    "                    print(f\"Gap detected in chain {chain.id} between residues {residues[i].id[1]} and {residues[i+1].id[1]}\")\n",
    "    \n",
    "    return structure\n"
   ]
  },
  {
   "cell_type": "code",
   "execution_count": 22,
   "id": "92b52a9e-66c3-4a0e-aa4d-5357b63be660",
   "metadata": {},
   "outputs": [
    {
     "name": "stdout",
     "output_type": "stream",
     "text": [
      "Gap detected in chain E between residues 13 and 16\n",
      "Gap detected in chain E between residues 146 and 149\n",
      "Gap detected in chain E between residues 245 and 406\n",
      "Gap detected in chain E between residues 421 and 423\n",
      "Gap detected in chain E between residues 425 and 427\n",
      "Gap detected in chain E between residues 446 and 448\n",
      "Gap detected in chain E between residues 459 and 463\n",
      "Gap detected in chain E between residues 463 and 469\n",
      "Gap detected in chain E between residues 469 and 501\n",
      "Gap detected in chain E between residues 504 and 516\n",
      "Gap detected in chain E between residues 518 and 523\n",
      "Gap detected in chain E between residues 525 and 527\n",
      "Gap detected in chain E between residues 528 and 532\n",
      "Gap detected in chain E between residues 532 and 535\n",
      "Gap detected in chain E between residues 535 and 538\n",
      "Gap detected in chain E between residues 538 and 601\n",
      "Gap detected in chain E between residues 601 and 603\n",
      "Gap detected in chain E between residues 604 and 606\n",
      "Gap detected in chain E between residues 608 and 611\n",
      "Gap detected in chain E between residues 622 and 624\n",
      "Gap detected in chain E between residues 628 and 701\n",
      "Gap detected in chain E between residues 702 and 704\n",
      "Gap detected in chain E between residues 717 and 719\n",
      "Gap detected in chain E between residues 723 and 726\n",
      "Gap detected in chain I between residues 70 and 422\n",
      "Gap detected in chain I between residues 422 and 460\n",
      "Gap detected in chain I between residues 462 and 464\n",
      "Gap detected in chain I between residues 468 and 470\n",
      "Gap detected in chain I between residues 471 and 506\n",
      "Gap detected in chain I between residues 508 and 510\n",
      "Gap detected in chain I between residues 512 and 520\n",
      "Gap detected in chain I between residues 521 and 526\n",
      "Gap detected in chain I between residues 526 and 534\n",
      "Gap detected in chain I between residues 534 and 602\n",
      "Gap detected in chain I between residues 602 and 605\n",
      "Gap detected in chain I between residues 605 and 609\n",
      "Gap detected in chain I between residues 610 and 623\n",
      "Gap detected in chain I between residues 623 and 703\n",
      "Gap detected in chain I between residues 703 and 718\n",
      "Gap detected in chain I between residues 718 and 725\n"
     ]
    }
   ],
   "source": [
    "# Cell 4a : Load PDB structure\n",
    "#def load_structure(filename):\n",
    "#    parser = PDB.PDBParser()\n",
    "#    structure = parser.get_structure('structure', filename)\n",
    "#    return structure\n",
    "# Load the crystal structure\n",
    "with warnings.catch_warnings(record=True) as w:\n",
    "    warnings.simplefilter(\"always\")\n",
    "    crystal_structure = load_structure(crystal_file)\n",
    "    for warning in w:\n",
    "        print(f\"Warning details: {warning}\")\n"
   ]
  },
  {
   "cell_type": "code",
   "execution_count": 23,
   "id": "a7d86252-0565-4b21-ae0c-ed89aeb645d9",
   "metadata": {},
   "outputs": [
    {
     "name": "stdout",
     "output_type": "stream",
     "text": [
      " PyMOL(TM) Molecular Graphics System, Version 3.0.0.\n",
      " Copyright (c) Schrodinger, LLC.\n",
      " All Rights Reserved.\n",
      " \n",
      "    Created by Warren L. DeLano, Ph.D. \n",
      " \n",
      "    PyMOL is user-supported open-source software.  Although some versions\n",
      "    are freely available, PyMOL is not in the public domain.\n",
      " \n",
      "    If PyMOL is helpful in your work or study, then please volunteer \n",
      "    support for our ongoing efforts to create open and affordable scientific\n",
      "    software by purchasing a PyMOL Maintenance and/or Support subscription.\n",
      "\n",
      "    More information can be found at \"http://www.pymol.org\".\n",
      " \n",
      "    Enter \"help\" for a list of commands.\n",
      "    Enter \"help <command-name>\" for information on a specific command.\n",
      "\n",
      " Hit ESC anytime to toggle between text and graphics.\n",
      "\n",
      " Detected OpenGL version 2.1. Shaders available.\n",
      " Tessellation shaders not available\n",
      " Detected GLSL version 1.20.\n",
      " OpenGL graphics engine:\n",
      "  GL_VENDOR:   Apple\n",
      "  GL_RENDERER: Apple M2 Pro\n",
      "  GL_VERSION:  2.1 Metal - 88.1\n",
      " Detected 10 CPU cores.  Enabled multithreaded rendering.\n",
      "HEADER    HYDROLASE/HYDROLASE INHIBITOR           08-NOV-91   1ACB\n",
      "TITLE     CRYSTAL AND MOLECULAR STRUCTURE OF THE BOVINE ALPHA-CHYMOTRYPSIN-EGLIN\n",
      "TITLE    2 C COMPLEX AT 2.0 ANGSTROMS RESOLUTION\n",
      "COMPND    MOL_ID: 1;\n",
      "COMPND   2 MOLECULE: ALPHA-CHYMOTRYPSIN;\n",
      "COMPND   3 CHAIN: E;\n",
      "COMPND   4 EC: 3.4.21.1;\n",
      "COMPND   5 ENGINEERED: YES;\n",
      "COMPND   6 MOL_ID: 2;\n",
      "COMPND   7 MOLECULE: EGLIN C;\n",
      "COMPND   8 CHAIN: I;\n",
      "COMPND   9 ENGINEERED: YES\n",
      " ObjectMolecule: Read secondary structure assignments.\n",
      " ObjectMolecule: Read crystal symmetry information.\n",
      " CmdLoad: \"\" loaded as \"pdb1acb\".\n"
     ]
    }
   ],
   "source": [
    "# make sure you have pymol installed in order to visualize the protein and the gaps detected in the previous cell\n",
    "!pymol pdb1acb.ent"
   ]
  },
  {
   "cell_type": "code",
   "execution_count": 24,
   "id": "c5acfbd3-86c2-4bdd-bf98-9d4cf629776f",
   "metadata": {},
   "outputs": [
    {
     "name": "stdout",
     "output_type": "stream",
     "text": [
      "Analysis of crystal structure:\n",
      "Structure ID: structure\n",
      "Number of models: 1\n",
      "  Model 0:\n",
      "    Chain E: 354 residues\n",
      "      First residue: CYS 1\n",
      "      Last residue: HOH 726\n",
      "    Chain I: 92 residues\n",
      "      First residue: LYS 8\n",
      "      Last residue: HOH 725\n"
     ]
    }
   ],
   "source": [
    "# Cell 6: Compare models\n",
    "#def compare_models(models):\n",
    "#    rmsd_matrix = np.zeros((len(models), len(models)))\n",
    "#    for i in range(len(models)):\n",
    "#        for j in range(i+1, len(models)):\n",
    "#            sup = Superimposer()\n",
    "#            atoms_1 = list(models[i].get_atoms())\n",
    "#            atoms_2 = list(models[j].get_atoms())\n",
    "#            sup.set_atoms(atoms_1, atoms_2)\n",
    "#            rmsd_matrix[i,j] = rmsd_matrix[j,i] = sup.rms\n",
    "#    return rmsd_matrix\n",
    "\n",
    "# Cell 5: Analyze structure\n",
    "def analyze_structure(structure):\n",
    "    print(f\"Structure ID: {structure.id}\")\n",
    "    print(f\"Number of models: {len(structure)}\")\n",
    "    for model in structure:\n",
    "        print(f\"  Model {model.id}:\")\n",
    "        for chain in model:\n",
    "            residues = list(chain.get_residues())\n",
    "            print(f\"    Chain {chain.id}: {len(residues)} residues\")\n",
    "            print(f\"      First residue: {residues[0].resname} {residues[0].id[1]}\")\n",
    "            print(f\"      Last residue: {residues[-1].resname} {residues[-1].id[1]}\")\n",
    "\n",
    "print(\"Analysis of crystal structure:\")\n",
    "analyze_structure(crystal_structure)\n",
    "\n"
   ]
  },
  {
   "cell_type": "markdown",
   "id": "c122c23f-5f41-434d-a513-21cac5996594",
   "metadata": {},
   "source": [
    "# In the following section of the notebook we will create a script that provides a comprehensive workflow for comparing protein structures, preparing them for docking, running ZDOCK, and analyzing the results. "
   ]
  },
  {
   "cell_type": "code",
   "execution_count": 25,
   "id": "5caa7145-207d-47f5-a8d0-98caed260b6d",
   "metadata": {},
   "outputs": [],
   "source": [
    "# Cell 1: Import necessary libraries\n",
    "import os\n",
    "from Bio import PDB\n",
    "from Bio.PDB.PDBList import PDBList\n",
    "from Bio.PDB.Superimposer import Superimposer\n",
    "import numpy as np\n"
   ]
  },
  {
   "cell_type": "code",
   "execution_count": 26,
   "id": "77108dea-96d6-4856-abf4-3cb3a7075f9d",
   "metadata": {},
   "outputs": [
    {
     "name": "stdout",
     "output_type": "stream",
     "text": [
      "Structure exists: './pdb1acb.ent' \n",
      "Downloading PDB structure '5cha'...\n",
      "Downloading PDB structure '1cse'...\n"
     ]
    }
   ],
   "source": [
    "# Cell 2: Download and load PDB structures\n",
    "def download_and_load_pdb(pdb_id):\n",
    "    pdbl = PDBList()\n",
    "    filename = pdbl.retrieve_pdb_file(pdb_id, pdir='.', file_format='pdb')\n",
    "    parser = PDB.PDBParser(QUIET=True)\n",
    "    structure = parser.get_structure(pdb_id, filename)\n",
    "    return structure\n",
    "\n",
    "complex_structure = download_and_load_pdb('1ACB')\n",
    "receptor_structure = download_and_load_pdb('5CHA')\n",
    "ligand_structure = download_and_load_pdb('1CSE')\n"
   ]
  },
  {
   "cell_type": "code",
   "execution_count": 29,
   "id": "29b1d61f-9af4-43ed-a285-df3fbb2ac436",
   "metadata": {},
   "outputs": [],
   "source": [
    "# Cell 3: Function to calculate RMSD between two structures\n",
    "def calculate_rmsd(struct1, struct2, chain1, chain2):\n",
    "    atoms1 = [atom for atom in struct1[0][chain1].get_atoms() if atom.name == 'CA']\n",
    "    atoms2 = [atom for atom in struct2[0][chain2].get_atoms() if atom.name == 'CA']\n",
    "    \n",
    "    len1, len2 = len(atoms1), len(atoms2)\n",
    "    if len1 != len2:\n",
    "        return None, f\"Atom count mismatch: {len1} vs {len2}\"\n",
    "    \n",
    "    sup = Superimposer()\n",
    "    sup.set_atoms(atoms1, atoms2)\n",
    "    return sup.rms, None\n"
   ]
  },
  {
   "cell_type": "code",
   "execution_count": 30,
   "id": "444c8733-4019-43e3-9b4b-a05b34a7f8bd",
   "metadata": {},
   "outputs": [
    {
     "name": "stdout",
     "output_type": "stream",
     "text": [
      "Could not calculate RMSD between 1ACB (chain E) and 5CHA (chain A): Atom count mismatch: 241 vs 8\n",
      "  1ACB (chain E) atom count: 1880\n",
      "  5CHA (chain A) atom count: 63\n",
      "  1ACB (chain E) residue count: 354\n",
      "  5CHA (chain A) residue count: 18\n",
      "\n",
      "RMSD between 1ACB (chain I) and 1CSE (chain I): 0.63 Å\n",
      "  1ACB (chain I) atom count: 551\n",
      "  1CSE (chain I) atom count: 642\n",
      "  1ACB (chain I) residue count: 92\n",
      "  1CSE (chain I) residue count: 183\n",
      "\n"
     ]
    }
   ],
   "source": [
    "# Cell 4: Compare complex structure with individual structures\n",
    "def compare_structures(struct1, struct2, chain1, chain2, name1, name2):\n",
    "    rmsd, error = calculate_rmsd(struct1, struct2, chain1, chain2)\n",
    "    if rmsd is not None:\n",
    "        print(f\"RMSD between {name1} (chain {chain1}) and {name2} (chain {chain2}): {rmsd:.2f} Å\")\n",
    "    else:\n",
    "        print(f\"Could not calculate RMSD between {name1} (chain {chain1}) and {name2} (chain {chain2}): {error}\")\n",
    "    \n",
    "    # Print additional information about the chains\n",
    "    print(f\"  {name1} (chain {chain1}) atom count: {len(list(struct1[0][chain1].get_atoms()))}\")\n",
    "    print(f\"  {name2} (chain {chain2}) atom count: {len(list(struct2[0][chain2].get_atoms()))}\")\n",
    "    print(f\"  {name1} (chain {chain1}) residue count: {len(list(struct1[0][chain1].get_residues()))}\")\n",
    "    print(f\"  {name2} (chain {chain2}) residue count: {len(list(struct2[0][chain2].get_residues()))}\")\n",
    "    print()\n",
    "\n",
    "compare_structures(complex_structure, receptor_structure, 'E', 'A', '1ACB', '5CHA')\n",
    "compare_structures(complex_structure, ligand_structure, 'I', 'I', '1ACB', '1CSE')"
   ]
  },
  {
   "cell_type": "code",
   "execution_count": 31,
   "id": "977d1f92-1d3e-4083-87e1-f2bb70a65d8e",
   "metadata": {},
   "outputs": [
    {
     "name": "stdout",
     "output_type": "stream",
     "text": [
      "Analyzing 1ACB (Complex):\n",
      "  Chain E:\n",
      "    Number of residues: 354\n",
      "    First residue: CYS 1\n",
      "    Last residue: HOH 726\n",
      "    Number of atoms: 1880\n",
      "  Chain I:\n",
      "    Number of residues: 92\n",
      "    First residue: LYS 8\n",
      "    Last residue: HOH 725\n",
      "    Number of atoms: 551\n",
      "\n",
      "Analyzing 5CHA (Receptor):\n",
      "  Chain A:\n",
      "    Number of residues: 18\n",
      "    First residue: CYS 1\n",
      "    Last residue: HOH 741\n",
      "    Number of atoms: 63\n",
      "  Chain B:\n",
      "    Number of residues: 206\n",
      "    First residue: ILE 16\n",
      "    Last residue: HOH 742\n",
      "    Number of atoms: 1055\n",
      "  Chain C:\n",
      "    Number of residues: 154\n",
      "    First residue: ALA 149\n",
      "    Last residue: HOH 739\n",
      "    Number of atoms: 759\n",
      "  Chain E:\n",
      "    Number of residues: 12\n",
      "    First residue: CYS 1\n",
      "    Last residue: HOH 693\n",
      "    Number of atoms: 57\n",
      "  Chain F:\n",
      "    Number of residues: 190\n",
      "    First residue: ILE 16\n",
      "    Last residue: HOH 738\n",
      "    Number of atoms: 1039\n",
      "  Chain G:\n",
      "    Number of residues: 141\n",
      "    First residue: ALA 149\n",
      "    Last residue: HOH 735\n",
      "    Number of atoms: 746\n",
      "\n",
      "Analyzing 1CSE (Ligand):\n",
      "  Chain E:\n",
      "    Number of residues: 588\n",
      "    First residue: ALA 1\n",
      "    Last residue: HOH 885\n",
      "    Number of atoms: 2234\n",
      "  Chain I:\n",
      "    Number of residues: 183\n",
      "    First residue: LYS 8\n",
      "    Last residue: HOH 884\n",
      "    Number of atoms: 642\n",
      "\n"
     ]
    }
   ],
   "source": [
    "# Cell 5: Detailed structure analysis\n",
    "def analyze_structure(structure, structure_id):\n",
    "    print(f\"Analyzing {structure_id}:\")\n",
    "    for model in structure:\n",
    "        for chain in model:\n",
    "            print(f\"  Chain {chain.id}:\")\n",
    "            residues = list(chain.get_residues())\n",
    "            print(f\"    Number of residues: {len(residues)}\")\n",
    "            print(f\"    First residue: {residues[0].resname} {residues[0].id[1]}\")\n",
    "            print(f\"    Last residue: {residues[-1].resname} {residues[-1].id[1]}\")\n",
    "            print(f\"    Number of atoms: {len(list(chain.get_atoms()))}\")\n",
    "    print()\n",
    "\n",
    "analyze_structure(complex_structure, \"1ACB (Complex)\")\n",
    "analyze_structure(receptor_structure, \"5CHA (Receptor)\")\n",
    "analyze_structure(ligand_structure, \"1CSE (Ligand)\")"
   ]
  },
  {
   "cell_type": "code",
   "execution_count": 32,
   "id": "7ee5370c-3d00-4388-9914-703a8be0d399",
   "metadata": {},
   "outputs": [
    {
     "name": "stdout",
     "output_type": "stream",
     "text": [
      "Downloading PDB structure '5cha'...\n",
      "Analyzing 5CHA (Re-downloaded):\n",
      "  Chain A:\n",
      "    Number of residues: 18\n",
      "    First residue: CYS 1\n",
      "    Last residue: HOH 741\n",
      "    Number of atoms: 63\n",
      "  Chain B:\n",
      "    Number of residues: 206\n",
      "    First residue: ILE 16\n",
      "    Last residue: HOH 742\n",
      "    Number of atoms: 1055\n",
      "  Chain C:\n",
      "    Number of residues: 154\n",
      "    First residue: ALA 149\n",
      "    Last residue: HOH 739\n",
      "    Number of atoms: 759\n",
      "  Chain E:\n",
      "    Number of residues: 12\n",
      "    First residue: CYS 1\n",
      "    Last residue: HOH 693\n",
      "    Number of atoms: 57\n",
      "  Chain F:\n",
      "    Number of residues: 190\n",
      "    First residue: ILE 16\n",
      "    Last residue: HOH 738\n",
      "    Number of atoms: 1039\n",
      "  Chain G:\n",
      "    Number of residues: 141\n",
      "    First residue: ALA 149\n",
      "    Last residue: HOH 735\n",
      "    Number of atoms: 746\n",
      "\n"
     ]
    }
   ],
   "source": [
    "# Cell 6: Re-download and analyze 5CHA\n",
    "def redownload_and_analyze(pdb_id):\n",
    "    pdbl = PDBList()\n",
    "    filename = pdbl.retrieve_pdb_file(pdb_id, pdir='.', file_format='pdb', overwrite=True)\n",
    "    structure = PDB.PDBParser(QUIET=True).get_structure(pdb_id, filename)\n",
    "    analyze_structure(structure, f\"{pdb_id} (Re-downloaded)\")\n",
    "\n",
    "redownload_and_analyze(\"\")"
   ]
  },
  {
   "cell_type": "code",
   "execution_count": 33,
   "id": "8043e2e8-3fe7-497a-b1e7-575cfd3be442",
   "metadata": {},
   "outputs": [],
   "source": [
    "# Cell 7: Updated structure preparation for docking\n",
    "def prepare_structure_for_docking(structure, chain_id, start_residue=None, end_residue=None):\n",
    "    new_structure = PDB.Structure.Structure('prepared')\n",
    "    model = PDB.Model.Model(0)\n",
    "    new_structure.add(model)\n",
    "    \n",
    "    for chain in structure[0]:\n",
    "        if chain.id == chain_id:\n",
    "            new_chain = PDB.Chain.Chain(chain_id)\n",
    "            for residue in chain:\n",
    "                if residue.id[0] == ' ':  # Check if it's a standard amino acid\n",
    "                    if (start_residue is None or residue.id[1] >= start_residue) and \\\n",
    "                       (end_residue is None or residue.id[1] <= end_residue):\n",
    "                        new_chain.add(residue)\n",
    "            model.add(new_chain)\n",
    "    \n",
    "    return new_structure\n",
    "\n",
    "# Prepare receptor (5CHA, chain B)\n",
    "prepared_receptor = prepare_structure_for_docking(receptor_structure, 'B', start_residue=16)\n",
    "\n",
    "# Prepare ligand (1CSE, chain I)\n",
    "prepared_ligand = prepare_structure_for_docking(ligand_structure, 'I', start_residue=8)\n"
   ]
  },
  {
   "cell_type": "code",
   "execution_count": 34,
   "id": "93d6e395-d003-4c05-b86a-0160e3df6084",
   "metadata": {},
   "outputs": [
    {
     "name": "stdout",
     "output_type": "stream",
     "text": [
      "Prepared structures saved as 'prepared_receptor.pdb' and 'prepared_ligand.pdb'\n",
      "Verifying Prepared Receptor (5CHA, chain B):\n",
      "  Chain B:\n",
      "    Number of residues: 131\n",
      "    First residue: ILE 16\n",
      "    Last residue: TYR 146\n",
      "    Number of atoms: 980\n",
      "\n",
      "Verifying Prepared Ligand (1CSE, chain I):\n",
      "  Chain I:\n",
      "    Number of residues: 63\n",
      "    First residue: LYS 8\n",
      "    Last residue: GLY 70\n",
      "    Number of atoms: 522\n",
      "\n"
     ]
    }
   ],
   "source": [
    "# Cell 8: Save prepared structures\n",
    "io = PDB.PDBIO()\n",
    "\n",
    "io.set_structure(prepared_receptor)\n",
    "io.save(\"prepared_receptor.pdb\")\n",
    "\n",
    "io.set_structure(prepared_ligand)\n",
    "io.save(\"prepared_ligand.pdb\")\n",
    "\n",
    "print(\"Prepared structures saved as 'prepared_receptor.pdb' and 'prepared_ligand.pdb'\")\n",
    "\n",
    "# Cell 9: Verify prepared structures\n",
    "def verify_structure(structure, structure_name):\n",
    "    print(f\"Verifying {structure_name}:\")\n",
    "    for model in structure:\n",
    "        for chain in model:\n",
    "            residues = list(chain.get_residues())\n",
    "            print(f\"  Chain {chain.id}:\")\n",
    "            print(f\"    Number of residues: {len(residues)}\")\n",
    "            print(f\"    First residue: {residues[0].resname} {residues[0].id[1]}\")\n",
    "            print(f\"    Last residue: {residues[-1].resname} {residues[-1].id[1]}\")\n",
    "            print(f\"    Number of atoms: {len(list(chain.get_atoms()))}\")\n",
    "    print()\n",
    "\n",
    "verify_structure(prepared_receptor, \"Prepared Receptor (5CHA, chain B)\")\n",
    "verify_structure(prepared_ligand, \"Prepared Ligand (1CSE, chain I)\")"
   ]
  },
  {
   "cell_type": "code",
   "execution_count": 41,
   "id": "bff0d0b1-1158-4229-b9c7-e56b3ff67de3",
   "metadata": {},
   "outputs": [],
   "source": [
    "# Cell 10: Run ZDOCK\n",
    "import subprocess\n",
    "import os\n",
    "\n",
    "def run_zdock(receptor_file, ligand_file, output_file):\n",
    "    zdock_path = \"zdock\"  # Adjust this if ZDOCK is not in your PATH\n",
    "    command = f\"{zdock_path} -R {receptor_file} -L {ligand_file} -o {output_file}\"\n",
    "    try:\n",
    "        subprocess.run(command, shell=True, check=True)\n",
    "        print(f\"ZDOCK completed successfully. Output saved to {output_file}\")\n",
    "    except subprocess.CalledProcessError as e:\n",
    "        print(f\"Error running ZDOCK: {e}\")\n",
    "\n",
    "# Uncomment the following line to run ZDOCK\n",
    "#run_zdock(\"prepared_receptor.pdb\", \"prepared_ligand.pdb\", \"zdock_output.txt\")\n"
   ]
  },
  {
   "cell_type": "code",
   "execution_count": 42,
   "id": "4cafed20-99a0-4a7f-bc60-3110bfadfc0b",
   "metadata": {},
   "outputs": [],
   "source": [
    "# Cell 11: Analyze ZDOCK results\n",
    "def analyze_zdock_results(zdock_output_file, top_n=10):\n",
    "    results = []\n",
    "    with open(zdock_output_file, 'r') as f:\n",
    "        lines = f.readlines()\n",
    "    \n",
    "    for line in lines[6:6+top_n]:  # ZDOCK output format: first 6 lines are header\n",
    "        parts = line.split()\n",
    "        results.append({\n",
    "            'rank': int(parts[0]),\n",
    "            'score': float(parts[1]),\n",
    "            'rotation': [float(parts[2]), float(parts[3]), float(parts[4])],\n",
    "            'translation': [float(parts[5]), float(parts[6]), float(parts[7])]\n",
    "        })\n",
    "    \n",
    "    return results\n"
   ]
  },
  {
   "cell_type": "code",
   "execution_count": 43,
   "id": "5942fe12-0b80-4e69-93fb-128ca387f7f4",
   "metadata": {},
   "outputs": [],
   "source": [
    "# Cell 12: Compare top ZDOCK result with crystal structure\n",
    "from Bio.PDB.Superimposer import Superimposer\n",
    "\n",
    "def compare_docked_to_crystal(docked_complex, crystal_complex, receptor_chain, ligand_chain):\n",
    "    # Extract CA atoms from receptor and ligand in both structures\n",
    "    docked_receptor_cas = [atom for atom in docked_complex[0][receptor_chain].get_atoms() if atom.name == 'CA']\n",
    "    docked_ligand_cas = [atom for atom in docked_complex[0][ligand_chain].get_atoms() if atom.name == 'CA']\n",
    "    crystal_receptor_cas = [atom for atom in crystal_complex[0][receptor_chain].get_atoms() if atom.name == 'CA']\n",
    "    crystal_ligand_cas = [atom for atom in crystal_complex[0][ligand_chain].get_atoms() if atom.name == 'CA']\n",
    "\n",
    "    # Superimpose receptor\n",
    "    sup_receptor = Superimposer()\n",
    "    sup_receptor.set_atoms(crystal_receptor_cas, docked_receptor_cas)\n",
    "    sup_receptor.apply(docked_complex[0][ligand_chain].get_atoms())\n",
    "\n",
    "    # Calculate RMSD for ligand\n",
    "    sup_ligand = Superimposer()\n",
    "    sup_ligand.set_atoms(crystal_ligand_cas, docked_ligand_cas)\n",
    "    \n",
    "    return sup_ligand.rms\n"
   ]
  },
  {
   "cell_type": "code",
   "execution_count": 44,
   "id": "b3987751-db01-4e59-989a-950b6bd6abaf",
   "metadata": {},
   "outputs": [
    {
     "name": "stdout",
     "output_type": "stream",
     "text": [
      "ZDOCK execution and analysis script prepared. Uncomment the last line to run the full analysis.\n"
     ]
    }
   ],
   "source": [
    "# Cell 13: Main execution\n",
    "def main():\n",
    "    # Run ZDOCK\n",
    "    run_zdock(\"prepared_receptor.pdb\", \"prepared_ligand.pdb\", \"zdock_output.txt\")\n",
    "\n",
    "    # Analyze ZDOCK results\n",
    "    results = analyze_zdock_results(\"zdock_output.txt\")\n",
    "    print(\"Top 10 ZDOCK predictions:\")\n",
    "    for result in results:\n",
    "        print(f\"Rank: {result['rank']}, Score: {result['score']}\")\n",
    "\n",
    "    # Compare top result with crystal structure\n",
    "    # Note: You'll need to create the docked complex structure using ZDOCK's create.pl script\n",
    "    # and then load it here. For now, we'll use a placeholder.\n",
    "    docked_complex = PDB.PDBParser().get_structure(\"docked\", \"docked_complex.pdb\")\n",
    "    crystal_complex = PDB.PDBParser().get_structure(\"crystal\", \"1ACB.pdb\")\n",
    "    \n",
    "    rmsd = compare_docked_to_crystal(docked_complex, crystal_complex, 'B', 'I')\n",
    "    print(f\"RMSD between top docked model and crystal structure: {rmsd:.2f} Å\")\n",
    "\n",
    "# Uncomment the following line to run the main function\n",
    "# main()\n",
    "\n",
    "print(\"ZDOCK execution and analysis script prepared. Uncomment the last line to run the full analysis.\")"
   ]
  },
  {
   "cell_type": "markdown",
   "id": "9dfe3227-059c-4d17-84a2-17def253a21e",
   "metadata": {},
   "source": [
    "The following code fragment creates a script that provides a Python-based molecular docking workflow using AutoDock Vina and PyMOL."
   ]
  },
  {
   "cell_type": "code",
   "execution_count": 45,
   "id": "e99a96d3-2a28-489f-91e8-0c73565fccaa",
   "metadata": {},
   "outputs": [
    {
     "name": "stdout",
     "output_type": "stream",
     "text": [
      "AutoDock Vina available: False\n",
      "PyMOL available: True\n"
     ]
    }
   ],
   "source": [
    "# Cell 1: Check for available docking tools\n",
    "def check_tool_availability(tool_name):\n",
    "    try:\n",
    "        subprocess.run([tool_name, '--help'], stdout=subprocess.DEVNULL, stderr=subprocess.DEVNULL)\n",
    "        return True\n",
    "    except FileNotFoundError:\n",
    "        return False\n",
    "\n",
    "vina_available = check_tool_availability('vina')\n",
    "pymol_available = check_tool_availability('pymol')\n",
    "\n",
    "print(f\"AutoDock Vina available: {vina_available}\")\n",
    "print(f\"PyMOL available: {pymol_available}\")\n"
   ]
  },
  {
   "cell_type": "code",
   "execution_count": null,
   "id": "0897f8f0-e149-4a6e-afc5-622e23ade87f",
   "metadata": {},
   "outputs": [],
   "source": []
  }
 ],
 "metadata": {
  "kernelspec": {
   "display_name": "Python 3.9 (rosetta)",
   "language": "python",
   "name": "rosetta"
  },
  "language_info": {
   "codemirror_mode": {
    "name": "ipython",
    "version": 3
   },
   "file_extension": ".py",
   "mimetype": "text/x-python",
   "name": "python",
   "nbconvert_exporter": "python",
   "pygments_lexer": "ipython3",
   "version": "3.9.19"
  }
 },
 "nbformat": 4,
 "nbformat_minor": 5
}
