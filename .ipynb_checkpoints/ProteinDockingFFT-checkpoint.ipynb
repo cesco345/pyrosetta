{
 "cells": [
  {
   "cell_type": "code",
   "execution_count": 3,
   "id": "a09ef550-e848-4ca9-bd87-3eded23d854f",
   "metadata": {},
   "outputs": [],
   "source": [
    "import os\n",
    "import subprocess\n",
    "import numpy as np\n",
    "from Bio import PDB\n",
    "from Bio.PDB.Superimposer import Superimposer\n"
   ]
  },
  {
   "cell_type": "code",
   "execution_count": 4,
   "id": "d9067d5b-7944-4457-ac09-9350af8dfe25",
   "metadata": {},
   "outputs": [],
   "source": [
    "# Cell 1: Set up file paths and parameters\n",
    "zdock_path = \"./zdock\"\n",
    "mark_sur_path = \"./mark_sur\"\n",
    "create_pl_path = \"./create.pl\"\n",
    "receptor_pdb = \"5CHA_A.pdb\"\n",
    "ligand_pdb = \"1CSE_I.pdb\"\n",
    "output_file = \"zdock.out\"\n",
    "num_predictions = 5\n"
   ]
  },
  {
   "cell_type": "code",
   "execution_count": 5,
   "id": "c359dd24-f791-443e-8d13-6fdb2e14db18",
   "metadata": {},
   "outputs": [],
   "source": [
    "# Cell 2: Process PDB files with mark_sur\n",
    "def run_mark_sur(input_pdb, output_pdb):\n",
    "    subprocess.run([mark_sur_path, input_pdb, output_pdb], check=True)\n"
   ]
  },
  {
   "cell_type": "code",
   "execution_count": null,
   "id": "6ed9c3b0-d363-4218-9aae-2bdb0bcc8a88",
   "metadata": {},
   "outputs": [],
   "source": []
  }
 ],
 "metadata": {
  "kernelspec": {
   "display_name": "Python 3.9 (rosetta)",
   "language": "python",
   "name": "rosetta"
  },
  "language_info": {
   "codemirror_mode": {
    "name": "ipython",
    "version": 3
   },
   "file_extension": ".py",
   "mimetype": "text/x-python",
   "name": "python",
   "nbconvert_exporter": "python",
   "pygments_lexer": "ipython3",
   "version": "3.9.19"
  }
 },
 "nbformat": 4,
 "nbformat_minor": 5
}
