{
 "cells": [
  {
   "cell_type": "markdown",
   "metadata": {},
   "source": [
    "# Alzheimer's Protein Analysis and Visualization\n",
    "\n",
    "This notebook analyzes and visualizes the results of PyRosetta scoring for Alzheimer's-related proteins."
   ]
  },
  {
   "cell_type": "code",
   "execution_count": null,
   "metadata": {},
   "outputs": [],
   "source": [
    "import pandas as pd\n",
    "import matplotlib.pyplot as plt\n",
    "import seaborn as sns\n",
    "\n",
    "# Set up the plotting style\n",
    "plt.style.use('seaborn')\n",
    "sns.set_palette(\"Set2\")\n",
    "%matplotlib inline\n",
    "\n",
    "# Increase the default figure size\n",
    "plt.rcParams['figure.figsize'] = [12, 8]"
   ]
  },
  {
   "cell_type": "markdown",
   "metadata": {},
   "source": [
    "## Load and Examine the Data"
   ]
  },
  {
   "cell_type": "code",
   "execution_count": null,
   "metadata": {},
   "outputs": [],
   "source": [
    "# Read the CSV file\n",
    "df = pd.read_csv(\"alzheimers_protein_analysis.csv\")\n",
    "\n",
    "# Display the first few rows\n",
    "print(df.head())\n",
    "\n",
    "# Display basic statistics\n",
    "print(df.describe())"
   ]
  },
  {
   "cell_type": "markdown",
   "metadata": {},
   "source": [
    "## Visualization 1: Total Energy Bar Plot"
   ]
  },
  {
   "cell_type": "code",
   "execution_count": null,
   "metadata": {},
   "outputs": [],
   "source": [
    "plt.figure(figsize=(14, 8))\n",
    "sns.barplot(x='Protein', y='Total', data=df)\n",
    "plt.title('Total Energy of Alzheimer\\'s-related Proteins', fontsize=16)\n",
    "plt.xlabel('Protein', fontsize=14)\n",
    "plt.ylabel('Total Energy', fontsize=14)\n",
    "plt.xticks(rotation=45, ha='right')\n",
    "plt.tight_layout()\n",
    "plt.show()"
   ]
  },
  {
   "cell_type": "markdown",
   "metadata": {},
   "source": [
    "### Interpretation:\n",
    "This bar plot shows the total energy for each protein. Lower energy generally indicates higher stability. [Add your interpretation based on the results]"
   ]
  },
  {
   "cell_type": "markdown",
   "metadata": {},
   "source": [
    "## Visualization 2: Energy Terms Heatmap"
   ]
  },
  {
   "cell_type": "code",
   "execution_count": null,
   "metadata": {},
   "outputs": [],
   "source": [
    "energy_terms = ['fa_atr', 'fa_rep', 'fa_sol', 'hbond_sc', 'rama_prepro']\n",
    "plt.figure(figsize=(14, 10))\n",
    "sns.heatmap(df[energy_terms], annot=True, cmap='coolwarm', center=0)\n",
    "plt.title('Energy Terms Heatmap for Alzheimer\\'s-related Proteins', fontsize=16)\n",
    "plt.xlabel('Energy Terms', fontsize=14)\n",
    "plt.ylabel('Proteins', fontsize=14)\n",
    "plt.tight_layout()\n",
    "plt.show()"
   ]
  },
  {
   "cell_type": "markdown",
   "metadata": {},
   "source": [
    "### Interpretation:\n",
    "This heatmap displays all the energy terms for each protein. Red indicates higher energy (less favorable), while blue indicates lower energy (more favorable). [Add your interpretation based on the results]"
   ]
  },
  {
   "cell_type": "markdown",
   "metadata": {},
   "source": [
    "## Visualization 3: Van der Waals Forces Scatter Plot"
   ]
  },
  {
   "cell_type": "code",
   "execution_count": null,
   "metadata": {},
   "outputs": [],
   "source": [
    "plt.figure(figsize=(12, 10))\n",
    "sns.scatterplot(x='fa_atr', y='fa_rep', data=df, s=100)\n",
    "for i, row in df.iterrows():\n",
    "    plt.annotate(row['Protein'], (row['fa_atr'], row['fa_rep']))\n",
    "plt.title('Van der Waals Attractive vs Repulsive Forces', fontsize=16)\n",
    "plt.xlabel('Van der Waals Attractive (fa_atr)', fontsize=14)\n",
    "plt.ylabel('Van der Waals Repulsive (fa_rep)', fontsize=14)\n",
    "plt.tight_layout()\n",
    "plt.show()"
   ]
  },
  {
   "cell_type": "markdown",
   "metadata": {},
   "source": [
    "### Interpretation:\n",
    "This scatter plot compares the Van der Waals attractive forces (fa_atr) against the repulsive forces (fa_rep) for each protein. [Add your interpretation based on the results]"
   ]
  },
  {
   "cell_type": "markdown",
   "metadata": {},
   "source": [
    "## Additional Analysis: Energy Term Contributions"
   ]
  },
  {
   "cell_type": "code",
   "execution_count": null,
   "metadata": {},
   "outputs": [],
   "source": [
    "# Calculate the percentage contribution of each energy term\n",
    "energy_terms = ['fa_atr', 'fa_rep', 'fa_sol', 'hbond_sc', 'rama_prepro']\n",
    "df_percentage = df[energy_terms].div(df['Total'], axis=0).abs() * 100\n",
    "\n",
    "# Plot stacked bar chart\n",
    "df_percentage.plot(kind='bar', stacked=True, figsize=(14, 8))\n",
    "plt.title('Percentage Contribution of Energy Terms', fontsize=16)\n",
    "plt.xlabel('Proteins', fontsize=14)\n",
    "plt.ylabel('Percentage', fontsize=14)\n",
    "plt.legend(title='Energy Terms', bbox_to_anchor=(1.05, 1), loc='upper left')\n",
    "plt.xticks(range(len(df)), df['Protein'], rotation=45, ha='right')\n",
    "plt.tight_layout()\n",
    "plt.show()"
   ]
  },
  {
   "cell_type": "markdown",
   "metadata": {},
   "source": [
    "### Interpretation:\n",
    "This stacked bar chart shows the percentage contribution of each energy term to the total energy for each protein. [Add your interpretation based on the results]"
   ]
  },
  {
   "cell_type": "markdown",
   "metadata": {},
   "source": [
    "## Conclusion\n",
    "\n",
    "[Add your overall conclusions and insights from the analysis here]"
   ]
  }
 ],
 "metadata": {
  "kernelspec": {
   "display_name": "Python 3",
   "language": "python",
   "name": "python3"
  },
  "language_info": {
   "codemirror_mode": {
    "name": "ipython",
    "version": 3
   },
   "file_extension": ".py",
   "mimetype": "text/x-python",
   "name": "python",
   "nbconvert_exporter": "python",
   "pygments_lexer": "ipython3",
   "version": "3.8.8"
  }
 },
 "nbformat": 4,
 "nbformat_minor": 4
}
