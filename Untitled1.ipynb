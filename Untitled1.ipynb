{
 "cells": [
  {
   "cell_type": "code",
   "execution_count": 1,
   "id": "f136d188-d21d-4010-81ee-f4a3b0c97ad7",
   "metadata": {},
   "outputs": [
    {
     "name": "stdout",
     "output_type": "stream",
     "text": [
      "┌──────────────────────────────────────────────────────────────────────────────┐\n",
      "│                                 PyRosetta-4                                  │\n",
      "│              Created in JHU by Sergey Lyskov and PyRosetta Team              │\n",
      "│              (C) Copyright Rosetta Commons Member Institutions               │\n",
      "│                                                                              │\n",
      "│ NOTE: USE OF PyRosetta FOR COMMERCIAL PURPOSES REQUIRE PURCHASE OF A LICENSE │\n",
      "│         See LICENSE.PyRosetta.md or email license@uw.edu for details         │\n",
      "└──────────────────────────────────────────────────────────────────────────────┘\n",
      "PyRosetta-4 2024 [Rosetta PyRosetta4.Release.python39.m1 2024.24+release.ca096dac4f43ee5ee195f87f3703a520fcf60cf9 2024-06-14T16:57:57] retrieved from: http://www.pyrosetta.org\n"
     ]
    },
    {
     "name": "stderr",
     "output_type": "stream",
     "text": [
      "Analyzing proteins:   0%|                                 | 0/7 [00:00<?, ?it/s]"
     ]
    },
    {
     "name": "stdout",
     "output_type": "stream",
     "text": [
      "Downloading PDB 1IYT...\n",
      "Downloading PDB structure '1iyt'...\n"
     ]
    },
    {
     "name": "stderr",
     "output_type": "stream",
     "text": [
      "Analyzing proteins:  14%|███▌                     | 1/7 [00:00<00:05,  1.13it/s]"
     ]
    },
    {
     "name": "stdout",
     "output_type": "stream",
     "text": [
      "Downloading PDB 5N5A...\n",
      "Downloading PDB structure '5n5a'...\n"
     ]
    },
    {
     "name": "stderr",
     "output_type": "stream",
     "text": [
      "Analyzing proteins:  29%|███████▏                 | 2/7 [00:02<00:05,  1.05s/it]"
     ]
    },
    {
     "name": "stdout",
     "output_type": "stream",
     "text": [
      "Downloading PDB 5FN2...\n",
      "Downloading PDB structure '5fn2'...\n"
     ]
    },
    {
     "name": "stderr",
     "output_type": "stream",
     "text": [
      "Analyzing proteins:  43%|██████████▋              | 3/7 [00:03<00:04,  1.10s/it]"
     ]
    },
    {
     "name": "stdout",
     "output_type": "stream",
     "text": [
      "Downloading PDB 6NCO...\n",
      "Downloading PDB structure '6nco'...\n"
     ]
    },
    {
     "name": "stderr",
     "output_type": "stream",
     "text": [
      "Analyzing proteins:  57%|██████████████▎          | 4/7 [00:03<00:02,  1.19it/s]"
     ]
    },
    {
     "name": "stdout",
     "output_type": "stream",
     "text": [
      "Downloading PDB 5ELI...\n",
      "Downloading PDB structure '5eli'...\n"
     ]
    },
    {
     "name": "stderr",
     "output_type": "stream",
     "text": [
      "Analyzing proteins:  71%|█████████████████▊       | 5/7 [00:04<00:01,  1.33it/s]"
     ]
    },
    {
     "name": "stdout",
     "output_type": "stream",
     "text": [
      "Downloading PDB 1XQ8...\n",
      "Downloading PDB structure '1xq8'...\n"
     ]
    },
    {
     "name": "stderr",
     "output_type": "stream",
     "text": [
      "Analyzing proteins:  86%|█████████████████████▍   | 6/7 [00:04<00:00,  1.54it/s]"
     ]
    },
    {
     "name": "stdout",
     "output_type": "stream",
     "text": [
      "Downloading PDB 5MCQ...\n",
      "Downloading PDB structure '5mcq'...\n"
     ]
    },
    {
     "name": "stderr",
     "output_type": "stream",
     "text": [
      "Analyzing proteins: 100%|█████████████████████████| 7/7 [00:05<00:00,  1.28it/s]"
     ]
    },
    {
     "name": "stdout",
     "output_type": "stream",
     "text": [
      "        Protein PDB ID         Total         fa_atr        fa_rep  \\\n",
      "0  Amyloid-beta   1IYT  5.654692e+06  -37931.231086  1.029220e+07   \n",
      "1   Tau protein   5N5A  1.741409e+07 -120627.319316  3.168264e+07   \n",
      "2  Presenilin-1   5FN2  7.462686e+03   -8077.098081  7.486665e+03   \n",
      "3         APOE4   6NCO -1.630512e+02    -867.336869  1.713499e+02   \n",
      "4         TREM2   5ELI  1.732353e+03   -1204.115570  3.334459e+03   \n",
      "5   α-Synuclein   1XQ8  4.905712e+02    -475.918555  1.964660e+02   \n",
      "6         BACE1   5MCQ  1.887272e+03   -2485.734529  4.744738e+03   \n",
      "\n",
      "          fa_sol   hbond_sc  rama_prepro  \n",
      "0   29404.494178  -8.138404   660.562420  \n",
      "1  100095.126336 -61.256368  1969.346433  \n",
      "2    4825.256798 -15.038719  2097.609414  \n",
      "3     629.071967 -21.438001   -50.682066  \n",
      "4     777.320714 -13.062664    62.845492  \n",
      "5     441.268341   0.000000   275.438193  \n",
      "6    1439.692713 -28.999614    37.006013  \n",
      "\n",
      "Results saved to alzheimers_protein_analysis.csv\n"
     ]
    },
    {
     "name": "stderr",
     "output_type": "stream",
     "text": [
      "\n"
     ]
    }
   ],
   "source": [
    "import pyrosetta\n",
    "from pyrosetta import Pose\n",
    "from Bio import PDB\n",
    "import os\n",
    "import pandas as pd\n",
    "from tqdm import tqdm\n",
    "\n",
    "# Initialize PyRosetta\n",
    "pyrosetta.init(extra_options=\"-mute all\")\n",
    "\n",
    "def download_pdb(pdb_id):\n",
    "    pdb_file = f\"{pdb_id}.pdb\"\n",
    "    if not os.path.exists(pdb_file):\n",
    "        print(f\"Downloading PDB {pdb_id}...\")\n",
    "        pdb_list = PDB.PDBList()\n",
    "        pdb_list.retrieve_pdb_file(pdb_id, pdir='.', file_format='pdb')\n",
    "        ent_file = f\"pdb{pdb_id}.ent\"\n",
    "        if os.path.exists(ent_file):\n",
    "            os.rename(ent_file, pdb_file)\n",
    "    return pdb_file\n",
    "\n",
    "def load_protein(pdb_id):\n",
    "    pdb_file = download_pdb(pdb_id)\n",
    "    pose = Pose()\n",
    "    pyrosetta.rosetta.core.import_pose.pose_from_file(pose, pdb_file)\n",
    "    return pose\n",
    "\n",
    "def score_protein(pose, scorefxn):\n",
    "    total_energy = scorefxn(pose)\n",
    "    energy_terms = {\n",
    "        'Total': total_energy,\n",
    "        'fa_atr': pose.energies().total_energies()[pyrosetta.rosetta.core.scoring.fa_atr],\n",
    "        'fa_rep': pose.energies().total_energies()[pyrosetta.rosetta.core.scoring.fa_rep],\n",
    "        'fa_sol': pose.energies().total_energies()[pyrosetta.rosetta.core.scoring.fa_sol],\n",
    "        'hbond_sc': pose.energies().total_energies()[pyrosetta.rosetta.core.scoring.hbond_sc],\n",
    "        'rama_prepro': pose.energies().total_energies()[pyrosetta.rosetta.core.scoring.rama_prepro]\n",
    "    }\n",
    "    return energy_terms\n",
    "\n",
    "def analyze_proteins(proteins):\n",
    "    scorefxn = pyrosetta.create_score_function('ref2015')\n",
    "    results = []\n",
    "\n",
    "    for protein_name, pdb_id in tqdm(proteins.items(), desc=\"Analyzing proteins\"):\n",
    "        try:\n",
    "            pose = load_protein(pdb_id)\n",
    "            energy_terms = score_protein(pose, scorefxn)\n",
    "            results.append({\n",
    "                'Protein': protein_name,\n",
    "                'PDB ID': pdb_id,\n",
    "                **energy_terms\n",
    "            })\n",
    "        except Exception as e:\n",
    "            print(f\"Error processing {protein_name} (PDB ID: {pdb_id}): {str(e)}\")\n",
    "\n",
    "    return pd.DataFrame(results)\n",
    "\n",
    "# Define Alzheimer's-related proteins\n",
    "proteins = {\n",
    "    \"Amyloid-beta\": \"1IYT\",\n",
    "    \"Tau protein\": \"5N5A\",\n",
    "    \"Presenilin-1\": \"5FN2\",  # γ-secretase component\n",
    "    \"APOE4\": \"6NCO\",  # Apolipoprotein E4\n",
    "    \"TREM2\": \"5ELI\",  # Triggering receptor expressed on myeloid cells 2\n",
    "    \"α-Synuclein\": \"1XQ8\",  # Often co-occurs with Alzheimer's\n",
    "    \"BACE1\": \"5MCQ\"  # β-secretase 1, involved in Aβ production\n",
    "}\n",
    "\n",
    "# Analyze proteins\n",
    "results_df = analyze_proteins(proteins)\n",
    "\n",
    "# Display results\n",
    "pd.set_option('display.max_columns', None)\n",
    "pd.set_option('display.width', None)\n",
    "print(results_df)\n",
    "\n",
    "# Save results to CSV\n",
    "results_df.to_csv(\"alzheimers_protein_analysis.csv\", index=False)\n",
    "print(\"\\nResults saved to alzheimers_protein_analysis.csv\")"
   ]
  },
  {
   "cell_type": "code",
   "execution_count": null,
   "id": "da436a7c-ffa7-47e8-beec-95cf06bf3992",
   "metadata": {},
   "outputs": [],
   "source": []
  }
 ],
 "metadata": {
  "kernelspec": {
   "display_name": "Python 3.9 (rosetta)",
   "language": "python",
   "name": "rosetta"
  },
  "language_info": {
   "codemirror_mode": {
    "name": "ipython",
    "version": 3
   },
   "file_extension": ".py",
   "mimetype": "text/x-python",
   "name": "python",
   "nbconvert_exporter": "python",
   "pygments_lexer": "ipython3",
   "version": "3.9.19"
  }
 },
 "nbformat": 4,
 "nbformat_minor": 5
}
